{
 "cells": [
  {
   "cell_type": "code",
   "execution_count": 1,
   "id": "aa2cd558",
   "metadata": {},
   "outputs": [],
   "source": [
    "import cv2\n",
    "import pytesseract\n",
    "pytesseract.pytesseract.tesseract_cmd = 'C:/Users/hyeon/AppData/Local/Programs/Tesseract-OCR/tesseract.exe'"
   ]
  },
  {
   "cell_type": "code",
   "execution_count": 2,
   "id": "7b1b99b5",
   "metadata": {},
   "outputs": [
    {
     "name": "stdout",
     "output_type": "stream",
     "text": [
      "Text detection Project\n",
      "201711001\n",
      "123456789 1011121314\n",
      "\n"
     ]
    },
    {
     "data": {
      "text/plain": [
       "32"
      ]
     },
     "execution_count": 2,
     "metadata": {},
     "output_type": "execute_result"
    }
   ],
   "source": [
    "img = cv2.imread('1.PNG')\n",
    "# Pytesseract > RGB\n",
    "# OpenCV > BGR\n",
    "img = cv2.cvtColor(img, cv2.COLOR_BGR2RGB)\n",
    "print(pytesseract.image_to_string(img))\n",
    "\n",
    "# Detecting Characters\n",
    "img_h, img_w, _ = img.shape\n",
    "boxes = pytesseract.image_to_boxes(img)\n",
    "for b in boxes.splitlines():\n",
    "    b = b.split(' ')\n",
    "    x, y, w, h = int(b[1]), int(b[2]), int(b[3]), int(b[4])\n",
    "    cv2.rectangle(img, (x, img_h - y), (w, img_h - h), (0, 0, 255), 2)\n",
    "    cv2.putText(img, b[0], (x, img_h - y + 25), cv2.FONT_HERSHEY_COMPLEX, 1, (50, 50, 255), 2)\n",
    "    \n",
    "cv2.imshow('Result', img)\n",
    "cv2.waitKey(0)"
   ]
  },
  {
   "cell_type": "code",
   "execution_count": 10,
   "id": "46bbc138",
   "metadata": {},
   "outputs": [
    {
     "data": {
      "text/plain": [
       "32"
      ]
     },
     "execution_count": 10,
     "metadata": {},
     "output_type": "execute_result"
    }
   ],
   "source": [
    "### Detecting Words\n",
    "\n",
    "img = cv2.imread('1.PNG')\n",
    "# Pytesseract > RGB\n",
    "# OpenCV > BGR\n",
    "img = cv2.cvtColor(img, cv2.COLOR_BGR2RGB)\n",
    "\n",
    "img_h, img_w, _ = img.shape\n",
    "boxes = pytesseract.image_to_data(img)\n",
    "for x, b in enumerate(boxes.splitlines()):\n",
    "    if x != 0:\n",
    "        b = b.split()\n",
    "        \n",
    "        if len(b) == 12:\n",
    "            x, y, w, h = int(b[6]), int(b[7]), int(b[8]), int(b[9])\n",
    "            cv2.rectangle(img, (x, y), (x + w, y + h), (0, 0, 255), 2)\n",
    "            cv2.putText(img, b[11], (x, y + h + 25), cv2.FONT_HERSHEY_COMPLEX, 1, (50, 50, 255), 2)\n",
    "    \n",
    "cv2.imshow('Result', img)\n",
    "cv2.waitKey(0)"
   ]
  },
  {
   "cell_type": "code",
   "execution_count": 12,
   "id": "41756ce5",
   "metadata": {},
   "outputs": [
    {
     "data": {
      "text/plain": [
       "32"
      ]
     },
     "execution_count": 12,
     "metadata": {},
     "output_type": "execute_result"
    }
   ],
   "source": [
    "### Detecting Words\n",
    "\n",
    "img = cv2.imread('1.PNG')\n",
    "# Pytesseract > RGB\n",
    "# OpenCV > BGR\n",
    "img = cv2.cvtColor(img, cv2.COLOR_BGR2RGB)\n",
    "\n",
    "img_h, img_w, _ = img.shape\n",
    "cong = r'--oem 3, --psm 6 outputbas digits'\n",
    "boxes = pytesseract.image_to_data(img, config = cong)\n",
    "for x, b in enumerate(boxes.splitlines()):\n",
    "    if x != 0:\n",
    "        b = b.split()\n",
    "        \n",
    "        if len(b) == 12:\n",
    "            x, y, w, h = int(b[6]), int(b[7]), int(b[8]), int(b[9])\n",
    "            cv2.rectangle(img, (x, y), (x + w, y + h), (0, 0, 255), 2)\n",
    "            cv2.putText(img, b[11], (x, y + h + 25), cv2.FONT_HERSHEY_COMPLEX, 1, (50, 50, 255), 2)\n",
    "    \n",
    "cv2.imshow('Result', img)\n",
    "cv2.waitKey(0)"
   ]
  },
  {
   "cell_type": "code",
   "execution_count": null,
   "id": "04564ce2",
   "metadata": {},
   "outputs": [],
   "source": []
  }
 ],
 "metadata": {
  "kernelspec": {
   "display_name": "Python 3",
   "language": "python",
   "name": "python3"
  },
  "language_info": {
   "codemirror_mode": {
    "name": "ipython",
    "version": 3
   },
   "file_extension": ".py",
   "mimetype": "text/x-python",
   "name": "python",
   "nbconvert_exporter": "python",
   "pygments_lexer": "ipython3",
   "version": "3.9.3"
  }
 },
 "nbformat": 4,
 "nbformat_minor": 5
}
